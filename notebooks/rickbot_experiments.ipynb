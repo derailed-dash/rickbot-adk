{
 "cells": [
  {
   "cell_type": "markdown",
   "metadata": {},
   "source": [
    "# Rickbot ADK Experiments\n",
    "\n",
    "For experimentation with the Rickbot Agent."
   ]
  },
  {
   "cell_type": "markdown",
   "metadata": {},
   "source": [
    "## Setup\n",
    "\n",
    "To run this notebook, ensure you've authenticated to Google Cloud and installed the project's dependencies.\n",
    "\n",
    "To setup the Google Cloud environment:\n",
    "\n",
    "```bash\n",
    "source scripts/setup-env.sh\n",
    "```\n",
    "\n",
    "Then to install the package dependencies into the virtual environment, use the `uv` tool:\n",
    "\n",
    "1. From your agent's root directory, run `make install` to set up the virtual environment (`.venv`).\n",
    "2. In this Jupyter notebook, select the kernel from the `.venv` folder to ensure all dependencies are available."
   ]
  },
  {
   "cell_type": "markdown",
   "metadata": {},
   "source": [
    "### Import Libraries"
   ]
  },
  {
   "cell_type": "code",
   "execution_count": null,
   "metadata": {},
   "outputs": [],
   "source": [
    "import asyncio\n",
    "import json\n",
    "import mimetypes\n",
    "import os\n",
    "\n",
    "import requests\n",
    "import vertexai\n",
    "from dotenv import load_dotenv\n",
    "from google.adk.runners import Runner\n",
    "from google.adk.sessions import BaseSessionService, InMemorySessionService\n",
    "from google.auth import default\n",
    "from google.genai.types import Blob, Content, Part\n",
    "from IPython.display import Image, Markdown, display\n"
   ]
  },
  {
   "cell_type": "markdown",
   "metadata": {},
   "source": [
    "### Load environment variables"
   ]
  },
  {
   "cell_type": "code",
   "execution_count": null,
   "metadata": {},
   "outputs": [],
   "source": [
    "dotenv_path = os.path.abspath('../.env')\n",
    "\n",
    "if os.path.exists(dotenv_path):\n",
    "    print(f\"Loading environment variables from: {dotenv_path}\")\n",
    "    load_dotenv(dotenv_path=dotenv_path)\n",
    "else:\n",
    "    print(f\"Warning: .env file not found at {dotenv_path}\")\n",
    "\n",
    "staging_project_id = os.getenv(\"GOOGLE_CLOUD_STAGING_PROJECT\")\n",
    "if staging_project_id:\n",
    "    os.environ[\"GOOGLE_CLOUD_PROJECT\"] = staging_project_id\n",
    "    print(f\"Set GOOGLE_CLOUD_PROJECT environment variable to: {staging_project_id}\")\n",
    "\n",
    "APP_NAME = \"rickbot_notebook_client\""
   ]
  },
  {
   "cell_type": "markdown",
   "metadata": {},
   "source": [
    "### Ensure We're Authenticating to the Right Project"
   ]
  },
  {
   "cell_type": "code",
   "execution_count": null,
   "metadata": {},
   "outputs": [],
   "source": [
    "credentials, project_id = default()  # To use ADC\n",
    "vertexai.init(project=\"rickbot-adk-dev\", location=\"europe-west4\", credentials=credentials)"
   ]
  },
  {
   "cell_type": "markdown",
   "metadata": {},
   "source": [
    "## Local Testing"
   ]
  },
  {
   "cell_type": "code",
   "execution_count": null,
   "metadata": {},
   "outputs": [],
   "source": [
    "from rickbot_agent.agent import get_agent\n",
    "from rickbot_agent.personality import get_personalities"
   ]
  },
  {
   "cell_type": "markdown",
   "metadata": {},
   "source": [
    "Let's have a look at our personalities..."
   ]
  },
  {
   "cell_type": "code",
   "execution_count": null,
   "metadata": {},
   "outputs": [],
   "source": [
    "for personality_name, personality in get_personalities().items():\n",
    "    print(f\"{personality_name}: {personality!r}\")"
   ]
  },
  {
   "cell_type": "markdown",
   "metadata": {},
   "source": [
    "### Helper Function\n",
    "\n",
    "Create an `async` helper function to:\n",
    "\n",
    "- Take a query string\n",
    "- Package it into the ADK `Content` format\n",
    "- Call `runner.run_async`, providing the user/session context and the message\n",
    "- Iterate through the `Events` yielded by the runner.\n",
    "- Print the response"
   ]
  },
  {
   "cell_type": "code",
   "execution_count": null,
   "metadata": {},
   "outputs": [],
   "source": [
    "# Helper function to run a test against a local agent\n",
    "async def run_agent_test(\n",
    "    agent_name: str,\n",
    "    app_name: str,\n",
    "    session_service: BaseSessionService,\n",
    "    query: str,\n",
    "    user_id: str,\n",
    "    session_id: str,\n",
    "    file_path: str | None = None,\n",
    "):\n",
    "    \"\"\"\n",
    "    Sets up and runs a test for a specified agent personality.\n",
    "\n",
    "    This function aligns with the best practice of programmatically testing\n",
    "    agents as demonstrated in the project's GEMINI.md documentation.\n",
    "    It encapsulates session creation, runner initialization, and message execution.\n",
    "    \"\"\"\n",
    "    print(f\"\\n--- Running test for agent: {agent_name} ---\\n\")\n",
    "    print(f\"User: {user_id}, Session: {session_id}\")\n",
    "    print(f\"Query: {query}\")\n",
    "\n",
    "    # 1. Set up agent and runner\n",
    "    agent = get_agent(agent_name)\n",
    "    runner = Runner(\n",
    "        agent=agent,\n",
    "        app_name=app_name,\n",
    "        session_service=session_service,\n",
    "    )\n",
    "\n",
    "    # 2. Construct message\n",
    "    parts = [Part.from_text(text=query)]\n",
    "    if file_path:\n",
    "        print(f\"Attaching file: {file_path}\")\n",
    "        mime_type = mimetypes.guess_type(file_path)[0]\n",
    "        if mime_type:\n",
    "            with open(file_path, \"rb\") as f:\n",
    "                parts.append(Part(inline_data=Blob(data=f.read(), mime_type=mime_type)))\n",
    "\n",
    "    # Content has a role (e.g. user) and parts that make up the prompt\n",
    "    new_message = Content(role=\"user\", parts=parts)\n",
    "\n",
    "    # 3. Run conversation and display output\n",
    "    final_message = \"\"\n",
    "    print(\"\\nStreaming response...\")\n",
    "    async for event in runner.run_async(\n",
    "        user_id=user_id,\n",
    "        session_id=session_id,\n",
    "        new_message=new_message,\n",
    "    ):\n",
    "        if function_calls := event.get_function_calls():\n",
    "            tool_name = function_calls[0].name\n",
    "            display(Markdown(f\"_Using tool {tool_name}..._\"))\n",
    "        elif event.actions and event.actions.transfer_to_agent:\n",
    "            agent_name = event.actions.transfer_to_agent\n",
    "            display(Markdown(f\"_Delegating to agent: {agent_name}..._\"))\n",
    "        elif event.is_final_response() and event.content and event.content.parts:\n",
    "            final_message = event.content.parts[0].text\n",
    "            display(Markdown(\"### Final Message\"))\n",
    "            display(Markdown(final_message))\n",
    "\n",
    "    print(\"--- Test complete ---\")\n",
    "    return session_id, final_message"
   ]
  },
  {
   "cell_type": "code",
   "execution_count": null,
   "metadata": {},
   "outputs": [],
   "source": [
    "### Test Case 1: Simple Query with Rick\n",
    "session_service = InMemorySessionService()\n",
    "user_id=\"test_rick_user\"\n",
    "session_id=\"test_rick_session\"\n",
    "sample_state = {\n",
    "    \"colour\": \"black\"\n",
    "}\n",
    "retrieved_session = await session_service.create_session(\n",
    "    app_name=APP_NAME, \n",
    "    user_id=user_id, \n",
    "    session_id=session_id,\n",
    "    state=sample_state\n",
    ")\n",
    "\n",
    "if retrieved_session:\n",
    "    print(f\"Retrieved session state: {retrieved_session.state}\")\n",
    "\n",
    "session_id, final_response = await run_agent_test(\n",
    "    agent_name=\"Rick\",\n",
    "    app_name=APP_NAME,\n",
    "    session_service=session_service, \n",
    "    query=\"What's the weather in London today?\",\n",
    "    user_id=user_id,\n",
    "    session_id=session_id,\n",
    ")"
   ]
  },
  {
   "cell_type": "code",
   "execution_count": null,
   "metadata": {},
   "outputs": [],
   "source": [
    "### Test Case 2: Multimodal Query with Yoda\n",
    "# Let's show an image to Yoda\n",
    "image_path = \"../media/rickbot-trans.png\"\n",
    "print(f\"Displaying image from {image_path}\")\n",
    "display(Image(image_path))\n",
    "\n",
    "user_id=\"test_rick_user\"\n",
    "session_id=\"test_rick_session\"\n",
    "\n",
    "session_service = InMemorySessionService()\n",
    "await session_service.create_session(\n",
    "    app_name=APP_NAME, user_id=user_id, session_id=session_id\n",
    ")\n",
    "\n",
    "session_id, final_response = await run_agent_test(\n",
    "    agent_name=\"Yoda\",\n",
    "    app_name=APP_NAME,\n",
    "    session_service=session_service, \n",
    "    query=\"I've sent you a picture. What do you see?\",\n",
    "    file_path=image_path,\n",
    "    user_id=user_id,\n",
    "    session_id=session_id,\n",
    ")\n"
   ]
  },
  {
   "cell_type": "code",
   "execution_count": null,
   "metadata": {},
   "outputs": [],
   "source": [
    "### Test Case 3: Multi-turn conversation with Dazbo\n",
    "agent_name = \"Dazbo\"\n",
    "user_id = \"test_dazbo_user\"\n",
    "session_id = \"test_dazbo_session\"\n",
    "session_service = InMemorySessionService()\n",
    "\n",
    "await session_service.create_session(\n",
    "    app_name=APP_NAME, user_id=user_id, session_id=session_id\n",
    ")\n",
    "\n",
    "# --- Turn 1 ---\n",
    "# The first turn introduces the user's name to the agent.\n",
    "print(\"--- Turn 1: Introducing user ---\")\n",
    "session_id, final_response = await run_agent_test(\n",
    "    agent_name=agent_name,\n",
    "    app_name=APP_NAME,\n",
    "    session_service=session_service, \n",
    "    query=\"Hi there, my name is Dazbo.\",\n",
    "    user_id=user_id,\n",
    "    session_id=session_id,\n",
    ")\n",
    "\n",
    "# --- Turn 2 ---\n",
    "# The second turn asks the agent to recall the name, testing the conversation history.\n",
    "print(\"\\n--- Turn 2: Testing recall ---\")\n",
    "session_id, final_response = await run_agent_test(\n",
    "    agent_name=agent_name,\n",
    "    app_name=APP_NAME,\n",
    "    session_service=session_service, # Crucially, WE MUST USE THE SAME SESSION SERVICE, SESSION_ID AND USER_ID \n",
    "    query=\"What did I say my name was?\",\n",
    "    user_id=user_id,\n",
    "    session_id=session_id, # Note: Reusing the same session_id\n",
    ")\n",
    "\n",
    "final_session = await session_service.get_session(app_name=APP_NAME,\n",
    "                                                  user_id= user_id,\n",
    "                                                  session_id=session_id)\n",
    "\n",
    "if final_session:\n",
    "    print(f\"\\nLast turn response:\\n\"\n",
    "          f\"{final_session.state.get('last_turn_response', 'No response found')}\")"
   ]
  },
  {
   "cell_type": "markdown",
   "metadata": {},
   "source": [
    "## Implement with AgentEngine\n",
    "\n",
    "See [ADK Agent Deployment to AgentEngine](https://google.github.io/adk-docs/deploy/agent-engine/#step-2-initialize-vertex-ai)\n",
    "\n",
    "To make the agent compatible with Agent Engine, we need to wrap it in an `AdkApp` object.\n",
    "\n",
    "When an `AdkApp` is deployed to Agent Engine, it automatically uses `VertexAiSessionService` for persistent, managed session state. This provides multi-turn conversational memory without any additional configuration. For local testing, the application defaults to a temporary, in-memory session service."
   ]
  },
  {
   "cell_type": "code",
   "execution_count": null,
   "metadata": {},
   "outputs": [],
   "source": [
    "from vertexai import agent_engines\n",
    "\n",
    "agent = get_agent(\"Rick\")\n",
    "\n",
    "# Wrap the agent in an AdkApp object\n",
    "app = agent_engines.AdkApp(\n",
    "    agent=agent,\n",
    "    enable_tracing=True,\n",
    ")"
   ]
  },
  {
   "cell_type": "markdown",
   "metadata": {},
   "source": [
    "## If you are using Cloud Run"
   ]
  },
  {
   "cell_type": "markdown",
   "metadata": {},
   "source": [
    "#### Remote Testing\n",
    "\n",
    "For more information about authenticating HTTPS requests to Cloud Run services, see:\n",
    "[Cloud Run Authentication Documentation](https://cloud.google.com/run/docs/triggering/https-request)\n",
    "\n",
    "Remote testing involves using a deployed service URL instead of localhost.\n",
    "\n",
    "Authentication is handled using GCP identity tokens instead of local credentials.\n",
    "\n",
    "Note: the code below does not yet work with IAP enabled."
   ]
  },
  {
   "cell_type": "code",
   "execution_count": null,
   "metadata": {},
   "outputs": [],
   "source": [
    "ID_TOKEN = get_ipython().getoutput(\"gcloud auth print-identity-token -q\")[0]"
   ]
  },
  {
   "cell_type": "code",
   "execution_count": null,
   "metadata": {},
   "outputs": [],
   "source": [
    "# SERVICE_URL = \"YOUR_SERVICE_URL_HERE\"  # Replace with your Cloud Run service URL\n",
    "SERVICE_URL = \"https://rickbot-adk-147304899500.europe-west4.run.app\""
   ]
  },
  {
   "cell_type": "markdown",
   "metadata": {},
   "source": [
    "You'll need to first create a Session"
   ]
  },
  {
   "cell_type": "code",
   "execution_count": null,
   "metadata": {},
   "outputs": [],
   "source": [
    "APP_NAME = \"adk_sample_app\"\n",
    "user_id = \"test_user_123\"\n",
    "session_data = {\"state\": {\"preferred_language\": \"English\", \"visit_count\": 1}}\n",
    "\n",
    "session_url = f\"{SERVICE_URL}/apps/{APP_NAME}/users/{user_id}/sessions\"\n",
    "print(f\"{session_url=}\")\n",
    "headers = {\"Content-Type\": \"application/json\", \"Authorization\": f\"Bearer {ID_TOKEN}\"}\n",
    "\n",
    "session_response = requests.post(session_url, headers=headers, json=session_data)\n",
    "print(f\"Session creation status code: {session_response.status_code}\")\n",
    "print(f\"Session creation response: {session_response.json()}\")\n",
    "session_id = session_response.json()[\"id\"]"
   ]
  },
  {
   "cell_type": "markdown",
   "metadata": {},
   "source": [
    "Then you will be able to send a message"
   ]
  },
  {
   "cell_type": "code",
   "execution_count": null,
   "metadata": {},
   "outputs": [],
   "source": [
    "message_data = {\n",
    "    \"app_name\": APP_NAME,\n",
    "    \"user_id\": user_id,\n",
    "    \"session_id\": session_id,\n",
    "    \"new_message\": {\"role\": \"user\", \"parts\": [{\"text\": \"Hello!\"}]},\n",
    "    \"streaming\": True,\n",
    "}\n",
    "\n",
    "message_url = f\"{SERVICE_URL}/run_sse\"\n",
    "message_response = requests.post(message_url, headers=headers, json=message_data, stream=True)\n",
    "\n",
    "print(f\"Message send status code: {message_response.status_code}\")\n",
    "\n",
    "# Print streamed response\n",
    "for line in message_response.iter_lines():\n",
    "    if line:\n",
    "        line_str = line.decode(\"utf-8\")\n",
    "        if line_str.startswith(\"data: \"):\n",
    "            event_json = line_str[6:]\n",
    "            event = json.loads(event_json)\n",
    "            print(f\"Received event: {event}\")\n",
    "            content = event.get(\"content\")\n",
    "            if content and \"parts\" in content:\n",
    "                parts = content.get(\"parts\")\n",
    "                if parts and isinstance(parts, list) and len(parts) > 0:\n",
    "                    # By the end of the loop, this will hold the text from the last event.\n",
    "                    final_message = parts[0].get(\"text\", \"\")\n",
    "\n",
    "display(Markdown(final_message))"
   ]
  }
 ],
 "metadata": {
  "kernelspec": {
   "display_name": "rickbot-adk",
   "language": "python",
   "name": "python3"
  },
  "language_info": {
   "codemirror_mode": {
    "name": "ipython",
    "version": 3
   },
   "file_extension": ".py",
   "mimetype": "text/x-python",
   "name": "python",
   "nbconvert_exporter": "python",
   "pygments_lexer": "ipython3",
   "version": "3.12.8"
  }
 },
 "nbformat": 4,
 "nbformat_minor": 2
}
