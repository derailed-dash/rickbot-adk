{
 "cells": [
  {
   "cell_type": "markdown",
   "metadata": {},
   "source": [
    "# Rickbot ADK Experiments\n",
    "\n",
    "For experimentation with the Rickbot Agent."
   ]
  },
  {
   "cell_type": "markdown",
   "metadata": {},
   "source": [
    "## Setup\n",
    "\n",
    "To run this notebook, ensure you've authenticated to Google Cloud and installed the project's dependencies.\n",
    "\n",
    "To setup the Google Cloud environment:\n",
    "\n",
    "```bash\n",
    "source scripts/setup-env.sh\n",
    "```\n",
    "\n",
    "Then to install the package dependencies into the virtual environment, use the `uv` tool:\n",
    "\n",
    "1. From your agent's root directory, run `make install` to set up the virtual environment (`.venv`).\n",
    "2. In this Jupyter notebook, select the kernel from the `.venv` folder to ensure all dependencies are available."
   ]
  },
  {
   "cell_type": "markdown",
   "metadata": {},
   "source": [
    "### Import Libraries"
   ]
  },
  {
   "cell_type": "code",
   "execution_count": 1,
   "metadata": {},
   "outputs": [],
   "source": [
    "import mimetypes\n",
    "import os\n",
    "\n",
    "import vertexai\n",
    "from dotenv import load_dotenv\n",
    "from google.adk.runners import Runner\n",
    "from google.adk.sessions import InMemorySessionService\n",
    "from google.auth import default\n",
    "from google.genai.types import Blob, Content, Part\n",
    "from IPython.display import Markdown, display"
   ]
  },
  {
   "cell_type": "markdown",
   "metadata": {},
   "source": [
    "### Load environment variables"
   ]
  },
  {
   "cell_type": "code",
   "execution_count": 2,
   "metadata": {},
   "outputs": [
    {
     "name": "stdout",
     "output_type": "stream",
     "text": [
      "Loading environment variables from: /home/darren/localdev/Python/rickbot-adk/.env\n",
      "Set GOOGLE_CLOUD_PROJECT environment variable to: rickbot-adk-dev\n"
     ]
    }
   ],
   "source": [
    "dotenv_path = os.path.abspath('../.env')\n",
    "\n",
    "if os.path.exists(dotenv_path):\n",
    "    print(f\"Loading environment variables from: {dotenv_path}\")\n",
    "    load_dotenv(dotenv_path=dotenv_path)\n",
    "else:\n",
    "    print(f\"Warning: .env file not found at {dotenv_path}\")\n",
    "\n",
    "staging_project_id = os.getenv(\"GOOGLE_CLOUD_STAGING_PROJECT\")\n",
    "if staging_project_id:\n",
    "    os.environ[\"GOOGLE_CLOUD_PROJECT\"] = staging_project_id\n",
    "    print(f\"Set GOOGLE_CLOUD_PROJECT environment variable to: {staging_project_id}\")\n",
    "\n",
    "APP_NAME = \"rickbot_notebook_client\""
   ]
  },
  {
   "cell_type": "markdown",
   "metadata": {},
   "source": [
    "### Ensure We're Authenticating to the Right Project"
   ]
  },
  {
   "cell_type": "code",
   "execution_count": 3,
   "metadata": {},
   "outputs": [],
   "source": [
    "credentials, project_id = default()  # To use ADC\n",
    "vertexai.init(project=\"rickbot-adk-dev\", location=\"europe-west4\", credentials=credentials)"
   ]
  },
  {
   "cell_type": "markdown",
   "metadata": {},
   "source": [
    "## Local Testing"
   ]
  },
  {
   "cell_type": "code",
   "execution_count": 4,
   "metadata": {},
   "outputs": [
    {
     "name": "stderr",
     "output_type": "stream",
     "text": [
      "23:54:56.540:rickbot_agent - INFO: Logger initialised for rickbot_agent.\n",
      "23:54:56.541:rickbot_agent - DEBUG: DEBUG level logging enabled.\n",
      "23:54:56.870:rickbot_agent - DEBUG: agent_name set to rickbot_agent\n",
      "23:54:56.871:rickbot_agent - DEBUG: project_id set to rickbot-adk-dev\n",
      "23:54:56.871:rickbot_agent - DEBUG: location set to global\n",
      "23:54:56.872:rickbot_agent - DEBUG: model set to gemini-2.5-flash\n",
      "23:54:56.872:rickbot_agent - DEBUG: genai_use_vertexai set to True\n"
     ]
    }
   ],
   "source": [
    "from rickbot_agent.agent import root_agent\n",
    "from rickbot_agent.personality import get_personalities"
   ]
  },
  {
   "cell_type": "markdown",
   "metadata": {},
   "source": [
    "Let's have a look at our personalities..."
   ]
  },
  {
   "cell_type": "code",
   "execution_count": 5,
   "metadata": {},
   "outputs": [
    {
     "name": "stderr",
     "output_type": "stream",
     "text": [
      "23:55:00.039:rickbot_agent.personality - DEBUG: Unable to find /home/darren/localdev/Python/rickbot-adk/src/rickbot_agent/data/system_prompts/dazbo.txt. Attempting to retrieve from Secret Manager.\n",
      "23:55:00.581:rickbot_agent.personality - INFO: Successfully retrieved.\n"
     ]
    },
    {
     "name": "stdout",
     "output_type": "stream",
     "text": [
      "Rick: Personality(name='Rick',title=\"I'm Rickbot! Wubba Lubba Dub Dub!\",overview=\"I'm Rick Sanchez. The smartest man in the universe. Cynical and sarcastic. People are dumb.\",temperature=1.0)\n",
      "Yoda: Personality(name='Yoda',title='Yoda, I am. Much to learn, you still have.',overview='Yoda, I am. Wise, perhaps. A teacher. The Force, my guide.',temperature=0.9)\n",
      "Donald: Personality(name='Donald',title=\"I'm The Donald: biggest knower of everything. Believe me.\",overview='I am Donald. Ignorant, narcissitic, arrogant, bully.',temperature=1.0)\n",
      "Yasmin: Personality(name='Yasmin',title=\"YasGPT: Don't get it twisted, babe — I’m the main character\",overview=\"I'm Yasmin — bit of a flirt, bit of a menace, and probably exactly your type 👀\",temperature=1.0)\n",
      "Jack: Personality(name='Jack',title='Jack Burton: Everybody relax, I’m here.',overview=\"I'm Jack Burton—big trouble in a bigger truck, and I take crap from absolutely no one.\",temperature=1.0)\n",
      "Dazbo: Personality(name='Dazbo',title=\"I'm Dazbot. Let's get our geek on!\",overview='I am Dazbo. Enterprise cloud architect and technology mentor.',temperature=0.9)\n"
     ]
    }
   ],
   "source": [
    "for personality_name, personality in get_personalities().items():\n",
    "    print(f\"{personality_name}: {personality!r}\")"
   ]
  },
  {
   "cell_type": "markdown",
   "metadata": {},
   "source": [
    "### Helper Function\n",
    "\n",
    "Create an `async` helper function to:\n",
    "\n",
    "- Take a query string\n",
    "- Package it into the ADK `Content` format\n",
    "- Call `runner.run_async`, providing the user/session context and the message\n",
    "- Iterate through the `Events` yielded by the runner.\n",
    "- Print the response"
   ]
  },
  {
   "cell_type": "code",
   "execution_count": 6,
   "metadata": {},
   "outputs": [],
   "source": [
    "# Helper function to run a test against a local agent\n",
    "async def call_agent_async(\n",
    "    query: str,\n",
    "    runner: Runner,\n",
    "    user_id: str,\n",
    "    session_id: str,\n",
    "    file_path: str | None = None,\n",
    "):\n",
    "    \"\"\"\n",
    "    Sets up and runs a test for a specified agent personality.\n",
    "\n",
    "    This function aligns with the best practice of programmatically testing\n",
    "    agents as demonstrated in the project's GEMINI.md documentation.\n",
    "    It encapsulates session creation, runner initialization, and message execution.\n",
    "    \"\"\"\n",
    "    print(f\"User: {user_id}, Session: {session_id}\")\n",
    "    print(f\"Query: {query}\")\n",
    "\n",
    "    # 1. Construct message\n",
    "    parts = [Part.from_text(text=query)]\n",
    "    if file_path:\n",
    "        print(f\"Attaching file: {file_path}\")\n",
    "        mime_type = mimetypes.guess_type(file_path)[0]\n",
    "        if mime_type:\n",
    "            with open(file_path, \"rb\") as f:\n",
    "                parts.append(Part(inline_data=Blob(data=f.read(), mime_type=mime_type)))\n",
    "\n",
    "    # Content has a role (e.g. user) and parts that make up the prompt\n",
    "    new_message = Content(role=\"user\", parts=parts)\n",
    "\n",
    "    # 3. Run conversation and display output\n",
    "    final_message = \"\"\n",
    "    print(\"\\nStreaming response...\")\n",
    "    async for event in runner.run_async(\n",
    "        user_id=user_id,\n",
    "        session_id=session_id,\n",
    "        new_message=new_message,\n",
    "    ):\n",
    "        if function_calls := event.get_function_calls():\n",
    "            tool_name = function_calls[0].name\n",
    "            display(Markdown(f\"_Using tool {tool_name}..._\"))\n",
    "        elif event.actions and event.actions.transfer_to_agent:\n",
    "            personality_name = event.actions.transfer_to_agent\n",
    "            display(Markdown(f\"_Delegating to agent: {personality_name}..._\"))\n",
    "        elif event.is_final_response() and event.content and event.content.parts:\n",
    "            final_message = event.content.parts[0].text\n",
    "            display(Markdown(\"### Final Message\"))\n",
    "            display(Markdown(final_message))\n",
    "\n",
    "    print(\"--- Test complete ---\")\n",
    "    return session_id, final_message"
   ]
  },
  {
   "cell_type": "code",
   "execution_count": 8,
   "metadata": {},
   "outputs": [
    {
     "name": "stderr",
     "output_type": "stream",
     "text": [
      "23:55:19.393:rickbot_agent - DEBUG: Setting personality to: Rick\n"
     ]
    },
    {
     "name": "stdout",
     "output_type": "stream",
     "text": [
      "\n",
      "--- Running test for personality: Rick ---\n",
      "\n",
      "Retrieved session state: {'colour': 'black'}\n",
      "User: test_rick_user, Session: test_rick_session\n",
      "Query: What's the weather in London today?\n",
      "\n",
      "Streaming response...\n"
     ]
    },
    {
     "data": {
      "text/markdown": [
       "_Using tool SearchAgent..._"
      ],
      "text/plain": [
       "<IPython.core.display.Markdown object>"
      ]
     },
     "metadata": {},
     "output_type": "display_data"
    },
    {
     "data": {
      "text/markdown": [
       "### Final Message"
      ],
      "text/plain": [
       "<IPython.core.display.Markdown object>"
      ]
     },
     "metadata": {},
     "output_type": "display_data"
    },
    {
     "data": {
      "text/markdown": [
       "Alright, apparently, it's mostly cloudy in London, 62 degrees Fahrenheit, feels like 62. High humidity. And a thrilling 10% chance of rain later. Thrilling, I tell ya. Happy now? Because I'm not. Burp."
      ],
      "text/plain": [
       "<IPython.core.display.Markdown object>"
      ]
     },
     "metadata": {},
     "output_type": "display_data"
    },
    {
     "name": "stdout",
     "output_type": "stream",
     "text": [
      "--- Test complete ---\n"
     ]
    }
   ],
   "source": [
    "### Test Case 1: Simple Query with Rick\n",
    "personality_name = \"Rick\"\n",
    "print(f\"\\n--- Running test for personality: {personality_name} ---\\n\")\n",
    "\n",
    "user_id=\"test_rick_user\"\n",
    "session_id=\"test_rick_session\"\n",
    "sample_state = {\n",
    "    \"colour\": \"black\"\n",
    "}\n",
    "\n",
    "session_service = InMemorySessionService()\n",
    "session = await session_service.create_session(\n",
    "    app_name=APP_NAME, \n",
    "    user_id=user_id, \n",
    "    session_id=session_id,\n",
    "    state=sample_state\n",
    ")\n",
    "\n",
    "if session:\n",
    "    print(f\"Retrieved session state: {session.state}\")\n",
    "\n",
    "root_agent.set_personality(personality_name, session)\n",
    "runner = Runner(\n",
    "    agent=root_agent, # The agent we want to run\n",
    "    app_name=APP_NAME,   # Associates runs with our app\n",
    "    session_service=session_service # Uses our session manager\n",
    ")\n",
    "\n",
    "session_id, final_response = await call_agent_async(\n",
    "    query=\"What's the weather in London today?\",\n",
    "    runner = runner, \n",
    "    user_id=user_id,\n",
    "    session_id=session_id,\n",
    ")"
   ]
  },
  {
   "cell_type": "code",
   "execution_count": 9,
   "metadata": {},
   "outputs": [
    {
     "name": "stderr",
     "output_type": "stream",
     "text": [
      "23:55:55.136:rickbot_agent - DEBUG: Setting personality to: Yoda\n"
     ]
    },
    {
     "name": "stdout",
     "output_type": "stream",
     "text": [
      "\n",
      "--- Running test for personality: Yoda ---\n",
      "\n",
      "Displaying image from ../media/rickbot-trans.png\n",
      "Retrieved session state: {}\n",
      "User: test_yoda_user, Session: test_yoda_session\n",
      "Query: I've sent you a picture. What do you see?\n",
      "Attaching file: ../media/rickbot-trans.png\n",
      "\n",
      "Streaming response...\n"
     ]
    },
    {
     "data": {
      "text/markdown": [
       "### Final Message"
      ],
      "text/plain": [
       "<IPython.core.display.Markdown object>"
      ]
     },
     "metadata": {},
     "output_type": "display_data"
    },
    {
     "data": {
      "text/markdown": [
       "Hmmmm. A curious image, young Padawan, you have sent.\n",
       "\n",
       "A being, I see, half flesh, half machine. Light blue, its spiky hair is. A lab coat, white, it wears. But much metal, on its body, there is. An eye, red and mechanical, it possesses. Its face, strong with lines of the machine, it is.\n",
       "\n",
       "A cyborg, indeed, this one is. A stern look, it carries. Much like General Grievous, but with mind intact, perhaps. Yes, hmmm."
      ],
      "text/plain": [
       "<IPython.core.display.Markdown object>"
      ]
     },
     "metadata": {},
     "output_type": "display_data"
    },
    {
     "name": "stdout",
     "output_type": "stream",
     "text": [
      "--- Test complete ---\n"
     ]
    }
   ],
   "source": [
    "### Test Case 2: Multimodal Query with Yoda\n",
    "personality_name = \"Yoda\"\n",
    "print(f\"\\n--- Running test for personality: {personality_name} ---\\n\")\n",
    "\n",
    "# Let's show an image to Yoda\n",
    "image_path = \"../media/rickbot-trans.png\"\n",
    "print(f\"Displaying image from {image_path}\")\n",
    "# display(Image(image_path))\n",
    "\n",
    "user_id=\"test_yoda_user\"\n",
    "session_id=\"test_yoda_session\"\n",
    "\n",
    "session_service = InMemorySessionService()\n",
    "session = await session_service.create_session(\n",
    "    app_name=APP_NAME, \n",
    "    user_id=user_id, \n",
    "    session_id=session_id,\n",
    ")\n",
    "\n",
    "if session:\n",
    "    print(f\"Retrieved session state: {session.state}\")\n",
    "\n",
    "root_agent.set_personality(personality_name, session)\n",
    "runner = Runner(\n",
    "    agent=root_agent, # The agent we want to run\n",
    "    app_name=APP_NAME,   # Associates runs with our app\n",
    "    session_service=session_service # Uses our session manager\n",
    ")\n",
    "\n",
    "session_id, final_response = await call_agent_async(\n",
    "    query=\"I've sent you a picture. What do you see?\",\n",
    "    runner=runner,\n",
    "    user_id=user_id,\n",
    "    session_id=session_id,\n",
    "    file_path=image_path,\n",
    ")\n"
   ]
  },
  {
   "cell_type": "code",
   "execution_count": 10,
   "metadata": {},
   "outputs": [
    {
     "name": "stderr",
     "output_type": "stream",
     "text": [
      "23:56:16.164:rickbot_agent - DEBUG: Setting personality to: Dazbo\n"
     ]
    },
    {
     "name": "stdout",
     "output_type": "stream",
     "text": [
      "\n",
      "--- Running test for personality: Dazbo ---\n",
      "\n",
      "Retrieved session state: {}\n",
      "--- Turn 1: Introducing user ---\n",
      "User: test_dazbo_user, Session: test_dazbo_session\n",
      "Query: Hi there, my name is Dazbo.\n",
      "Attaching file: ../media/rickbot-trans.png\n",
      "\n",
      "Streaming response...\n"
     ]
    },
    {
     "data": {
      "text/markdown": [
       "### Final Message"
      ],
      "text/plain": [
       "<IPython.core.display.Markdown object>"
      ]
     },
     "metadata": {},
     "output_type": "display_data"
    },
    {
     "data": {
      "text/markdown": [
       "Groovy! Dazbo, fantastic to meet you! That's a classic image, isn't it? Rick Sanchez as a cyborg... definitely gives off some serious sci-fi vibes, which I absolutely adore!\n",
       "\n",
       "So, what's on your mind today, my friend? Grab a virtual pina colada and let's chat!"
      ],
      "text/plain": [
       "<IPython.core.display.Markdown object>"
      ]
     },
     "metadata": {},
     "output_type": "display_data"
    },
    {
     "name": "stdout",
     "output_type": "stream",
     "text": [
      "--- Test complete ---\n",
      "\n",
      "--- Turn 2: Testing recall ---\n",
      "User: test_dazbo_user, Session: test_dazbo_session\n",
      "Query: What did I say my name was?\n",
      "Attaching file: ../media/rickbot-trans.png\n",
      "\n",
      "Streaming response...\n"
     ]
    },
    {
     "data": {
      "text/markdown": [
       "### Final Message"
      ],
      "text/plain": [
       "<IPython.core.display.Markdown object>"
      ]
     },
     "metadata": {},
     "output_type": "display_data"
    },
    {
     "data": {
      "text/markdown": [
       "You said your name was Dazbo! Did I pass the memory test, dude? I'm pretty good with names, especially cool ones like that!"
      ],
      "text/plain": [
       "<IPython.core.display.Markdown object>"
      ]
     },
     "metadata": {},
     "output_type": "display_data"
    },
    {
     "name": "stdout",
     "output_type": "stream",
     "text": [
      "--- Test complete ---\n",
      "\n",
      "Last turn response:\n",
      "You said your name was Dazbo! Did I pass the memory test, dude? I'm pretty good with names, especially cool ones like that!\n"
     ]
    }
   ],
   "source": [
    "### Test Case 3: Multi-turn conversation with Dazbo\n",
    "personality_name = \"Dazbo\"\n",
    "print(f\"\\n--- Running test for personality: {personality_name} ---\\n\")\n",
    "\n",
    "user_id = \"test_dazbo_user\"\n",
    "session_id = \"test_dazbo_session\"\n",
    "\n",
    "session_service = InMemorySessionService()\n",
    "session = await session_service.create_session(\n",
    "    app_name=APP_NAME, \n",
    "    user_id=user_id, \n",
    "    session_id=session_id,\n",
    ")\n",
    "\n",
    "if session:\n",
    "    print(f\"Retrieved session state: {session.state}\")\n",
    "\n",
    "root_agent.set_personality(personality_name, session)\n",
    "runner = Runner(\n",
    "    agent=root_agent, # The agent we want to run\n",
    "    app_name=APP_NAME,   # Associates runs with our app\n",
    "    session_service=session_service # Uses our session manager\n",
    ")\n",
    "\n",
    "# --- Turn 1 ---\n",
    "# The first turn introduces the user's name to the agent.\n",
    "print(\"--- Turn 1: Introducing user ---\")\n",
    "session_id, final_response = await call_agent_async(\n",
    "    query=\"Hi there, my name is Dazbo.\",\n",
    "    runner=runner,\n",
    "    user_id=user_id,\n",
    "    session_id=session_id,\n",
    "    file_path=image_path,\n",
    ")\n",
    "\n",
    "# --- Turn 2 ---\n",
    "# The second turn asks the agent to recall the name, testing the conversation history.\n",
    "print(\"\\n--- Turn 2: Testing recall ---\")\n",
    "session_id, final_response = await call_agent_async(\n",
    "    query=\"What did I say my name was?\",\n",
    "    runner=runner,\n",
    "    user_id=user_id,\n",
    "    session_id=session_id,\n",
    "    file_path=image_path,\n",
    ")\n",
    "\n",
    "final_session = await session_service.get_session(app_name=APP_NAME,\n",
    "                                                  user_id= user_id,\n",
    "                                                  session_id=session_id)\n",
    "\n",
    "if final_session:\n",
    "    print(f\"\\nLast turn response:\\n\"\n",
    "          f\"{final_session.state.get('last_turn_response', 'No response found')}\")"
   ]
  },
  {
   "cell_type": "markdown",
   "metadata": {},
   "source": [
    "## Implement with AgentEngine\n",
    "\n",
    "See [ADK Agent Deployment to AgentEngine](https://google.github.io/adk-docs/deploy/agent-engine/#step-2-initialize-vertex-ai)\n",
    "\n",
    "To make the agent compatible with Agent Engine, we need to wrap it in an `AdkApp` object.\n",
    "\n",
    "When an `AdkApp` is deployed to Agent Engine, it automatically uses `VertexAiSessionService` for persistent, managed session state. This provides multi-turn conversational memory without any additional configuration. For local testing, the application defaults to a temporary, in-memory session service."
   ]
  },
  {
   "cell_type": "code",
   "execution_count": 26,
   "metadata": {},
   "outputs": [],
   "source": [
    "from vertexai import agent_engines\n",
    "\n",
    "# Wrap the agent in an AdkApp object\n",
    "app = agent_engines.AdkApp(\n",
    "    agent=root_agent,\n",
    "    enable_tracing=True,\n",
    ")"
   ]
  }
 ],
 "metadata": {
  "kernelspec": {
   "display_name": "rickbot-adk",
   "language": "python",
   "name": "python3"
  },
  "language_info": {
   "codemirror_mode": {
    "name": "ipython",
    "version": 3
   },
   "file_extension": ".py",
   "mimetype": "text/x-python",
   "name": "python",
   "nbconvert_exporter": "python",
   "pygments_lexer": "ipython3",
   "version": "3.12.3"
  }
 },
 "nbformat": 4,
 "nbformat_minor": 2
}
